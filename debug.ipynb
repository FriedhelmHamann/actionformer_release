{
 "cells": [
  {
   "cell_type": "code",
   "execution_count": 2,
   "metadata": {},
   "outputs": [],
   "source": [
    "import numpy as np"
   ]
  },
  {
   "cell_type": "code",
   "execution_count": 3,
   "metadata": {},
   "outputs": [
    {
     "data": {
      "text/plain": [
       "(17693, 512)"
      ]
     },
     "execution_count": 3,
     "metadata": {},
     "output_type": "execute_result"
    }
   ],
   "source": [
    "file_path = 'data/ep/i3d_features/22-01-05_17-00-00_N01.npy'\n",
    "loaded_array = np.load(file_path)\n",
    "loaded_array.shape"
   ]
  },
  {
   "cell_type": "code",
   "execution_count": 6,
   "metadata": {},
   "outputs": [
    {
     "data": {
      "text/plain": [
       "(3617, 2048)"
      ]
     },
     "execution_count": 6,
     "metadata": {},
     "output_type": "execute_result"
    }
   ],
   "source": [
    "file_path = 'data/thumos/i3d_features/video_test_0000007.npy'\n",
    "loaded_array = np.load(file_path)\n",
    "loaded_array.shape"
   ]
  },
  {
   "cell_type": "code",
   "execution_count": 10,
   "metadata": {},
   "outputs": [
    {
     "data": {
      "text/plain": [
       "(590, 2048)"
      ]
     },
     "execution_count": 10,
     "metadata": {},
     "output_type": "execute_result"
    }
   ],
   "source": [
    "file_path = 'data/thumos/i3d_features/video_test_0000011.npy'\n",
    "loaded_array = np.load(file_path)\n",
    "loaded_array.shape"
   ]
  },
  {
   "cell_type": "code",
   "execution_count": 11,
   "metadata": {},
   "outputs": [
    {
     "data": {
      "text/plain": [
       "(1555, 2048)"
      ]
     },
     "execution_count": 11,
     "metadata": {},
     "output_type": "execute_result"
    }
   ],
   "source": [
    "file_path = 'data/thumos/i3d_features/video_test_0000026.npy'\n",
    "loaded_array = np.load(file_path)\n",
    "loaded_array.shape"
   ]
  },
  {
   "cell_type": "code",
   "execution_count": 12,
   "metadata": {},
   "outputs": [],
   "source": [
    "import json\n",
    "\n",
    "input_file_path = 'data/thumos/annotations/thumos14.json'\n",
    "output_file_path = 'thumos14_hr.json'\n",
    "\n",
    "with open(input_file_path, 'r') as input_file:\n",
    "    json_data = json.load(input_file)\n",
    "\n",
    "with open(output_file_path, 'w') as output_file:\n",
    "    json.dump(json_data, output_file, indent=4)\n"
   ]
  },
  {
   "cell_type": "code",
   "execution_count": 2,
   "metadata": {},
   "outputs": [
    {
     "name": "stdout",
     "output_type": "stream",
     "text": [
      "Class decorator is called.\n",
      "__init__ is called.\n",
      "My method was called with value: 5\n"
     ]
    }
   ],
   "source": [
    "def my_class_decorator(cls):\n",
    "    print(\"Class decorator is called.\")\n",
    "    cls.new_attribute = \"Added by the decorator\"\n",
    "    return cls\n",
    "\n",
    "@my_class_decorator\n",
    "class MyClass:\n",
    "    def __init__(self, value):\n",
    "        print(\"__init__ is called.\")\n",
    "        self.value = value\n",
    "\n",
    "    def my_method(self):\n",
    "        print(f\"My method was called with value: {self.value}\")\n",
    "\n",
    "# Class decorator is called immediately after the class is defined.\n",
    "MyClass(5).my_method()"
   ]
  },
  {
   "cell_type": "code",
   "execution_count": null,
   "metadata": {},
   "outputs": [],
   "source": []
  }
 ],
 "metadata": {
  "kernelspec": {
   "display_name": "venv",
   "language": "python",
   "name": "python3"
  },
  "language_info": {
   "codemirror_mode": {
    "name": "ipython",
    "version": 3
   },
   "file_extension": ".py",
   "mimetype": "text/x-python",
   "name": "python",
   "nbconvert_exporter": "python",
   "pygments_lexer": "ipython3",
   "version": "3.8.10"
  },
  "orig_nbformat": 4
 },
 "nbformat": 4,
 "nbformat_minor": 2
}
